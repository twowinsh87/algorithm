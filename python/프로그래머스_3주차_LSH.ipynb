{
  "nbformat": 4,
  "nbformat_minor": 0,
  "metadata": {
    "colab": {
      "name": "프로그래머스_3주차_LSH.ipynb",
      "provenance": []
    },
    "kernelspec": {
      "name": "python3",
      "display_name": "Python 3"
    }
  },
  "cells": [
    {
      "cell_type": "markdown",
      "metadata": {
        "id": "-rMdSTtcVnmS",
        "colab_type": "text"
      },
      "source": [
        "### Lev1-소수 찾기"
      ]
    },
    {
      "cell_type": "code",
      "metadata": {
        "id": "15BkzlouVqbr",
        "colab_type": "code",
        "colab": {
          "base_uri": "https://localhost:8080/",
          "height": 221
        },
        "outputId": "b2f76ad0-2c35-4cf8-d78e-3bc22744efad"
      },
      "source": [
        "n=5\n",
        "\n",
        "def solution(n):\n",
        "    answer = 0\n",
        "\n",
        "    if n==1:\n",
        "        return answer\n",
        "    else :\n",
        "        for i in range(2, n+1):\n",
        "            for j in range(2, i):\n",
        "                print('j',j, 'i',i)\n",
        "                if i%j==0:\n",
        "                    break\n",
        "                if i-1==j:\n",
        "                    answer+=1\n",
        "    return answer+1\n",
        "\n",
        "solution(n)"
      ],
      "execution_count": null,
      "outputs": [
        {
          "output_type": "stream",
          "text": [
            "2\n",
            "3\n",
            "j 2 i 3\n",
            "걸 1\n",
            "4\n",
            "j 2 i 4\n",
            "5\n",
            "j 2 i 5\n",
            "j 3 i 5\n",
            "j 4 i 5\n",
            "걸 2\n"
          ],
          "name": "stdout"
        },
        {
          "output_type": "execute_result",
          "data": {
            "text/plain": [
              "3"
            ]
          },
          "metadata": {
            "tags": []
          },
          "execution_count": 28
        }
      ]
    },
    {
      "cell_type": "markdown",
      "metadata": {
        "id": "z3FQh7MnyNMG",
        "colab_type": "text"
      },
      "source": [
        "### Lev1-시저 암호"
      ]
    },
    {
      "cell_type": "code",
      "metadata": {
        "id": "jKk6hbJ4lxeE",
        "colab_type": "code",
        "colab": {}
      },
      "source": [
        "s = \"a bc dz\"\n",
        "n = 2\n",
        "\n",
        "## 기본적으로 n만큼 넘어가고, if로 공백(32)은 그대로, z(122)->a(97) Z(90)->A(65) 숫자로\n",
        "## 아스키 변환 후에, 시작 기준이되는 a, A와 요건(n)의 차이를 구해서 최종적으로 a, A 에서 더해주면된다.\n",
        "## 알파벳 25개를 넘어갈 수 있으니 나머지를 활용\n",
        "def solution(s, n):\n",
        "    s = list(s)\n",
        "    for i in range(len(s)):\n",
        "        if s[i].isupper():\n",
        "            s[i]=chr((ord(s[i])-ord('A')+ n)%26+ord('A'))\n",
        "        elif s[i].islower():\n",
        "            s[i]=chr((ord(s[i])-ord('a')+ n)%26+ord('a'))\n",
        "\n",
        "    return \"\".join(s)"
      ],
      "execution_count": 9,
      "outputs": []
    },
    {
      "cell_type": "markdown",
      "metadata": {
        "id": "sdkbAdYFoVwb",
        "colab_type": "text"
      },
      "source": [
        "### Lev1-약수의 합\n",
        "#### 약수의 개수는 제곱근까지만 판별하면됨 sqrt()"
      ]
    },
    {
      "cell_type": "code",
      "metadata": {
        "id": "3lPraVFX0lSn",
        "colab_type": "code",
        "colab": {
          "base_uri": "https://localhost:8080/",
          "height": 34
        },
        "outputId": "bd7f3f3f-dc24-4ad1-a412-651722219b71"
      },
      "source": [
        "import math\n",
        "\n",
        "n=17\n",
        "\n",
        "def solution(n):\n",
        "    answer = n\n",
        "    \n",
        "    for i in range(1, n-1):\n",
        "        if n%i == 0:\n",
        "            answer+=i\n",
        "    return answer\n",
        "\n",
        "solution(n)"
      ],
      "execution_count": 49,
      "outputs": [
        {
          "output_type": "execute_result",
          "data": {
            "text/plain": [
              "18"
            ]
          },
          "metadata": {
            "tags": []
          },
          "execution_count": 49
        }
      ]
    },
    {
      "cell_type": "markdown",
      "metadata": {
        "id": "nAnBo5nrxqgn",
        "colab_type": "text"
      },
      "source": [
        "### Lev1-이상한 문자 만들기 : <https://programmers.co.kr/learn/courses/30/lessons/12930>\n",
        "- 짝수는 소문자, 홀수는 대문자\n",
        "- 문자열 전체의 짝/홀수 인덱스가 아니라, 단어(공백을 기준)별로 짝/홀수 인덱스를 판단해야합니다.\n",
        "- 첫 번째 글자는 0번째 인덱스로 보아 짝수번째 알파벳으로 처리해야 합니다."
      ]
    },
    {
      "cell_type": "code",
      "metadata": {
        "id": "RjKhY4FNwhST",
        "colab_type": "code",
        "colab": {
          "base_uri": "https://localhost:8080/",
          "height": 35
        },
        "outputId": "c293ab6a-926f-4dd8-e62b-9a4796aa2ff7"
      },
      "source": [
        "### 1차 풀이. 일부 속도가 너무 느리다. \n",
        "\n",
        "s = 'try hello world' ## TrY HeLlO WoRlD 으로 변경\n",
        "\n",
        "def solution(s):\n",
        "    answer = ''\n",
        "    s1 = list(s.split(' '))\n",
        "    for i in s1:\n",
        "        change = []\n",
        "        for idx, j in enumerate(i):\n",
        "            if idx % 2 == 0:\n",
        "                change.append(j.upper())\n",
        "            else:\n",
        "                change.append(j.lower())\n",
        "        answer += ''.join(change) + ' '\n",
        "\n",
        "    return answer[:-1]\n",
        "\n",
        "solution(s)\n",
        "\n",
        "\n",
        "### 2차 풀이(다른사람)\n",
        "#def solution(s):\n",
        "#    return ' '.join([''.join([c.upper() if i % 2 == 0 else c.lower() for i, c in enumerate(w)]) for w in s.split(' ')])"
      ],
      "execution_count": 87,
      "outputs": [
        {
          "output_type": "execute_result",
          "data": {
            "application/vnd.google.colaboratory.intrinsic+json": {
              "type": "string"
            },
            "text/plain": [
              "'TrY HeLlO WoRlD'"
            ]
          },
          "metadata": {
            "tags": []
          },
          "execution_count": 87
        }
      ]
    },
    {
      "cell_type": "markdown",
      "metadata": {
        "id": "A6anhObv_jWt",
        "colab_type": "text"
      },
      "source": [
        "### Lev1-자릿수 더하기 <https://programmers.co.kr/learn/courses/30/lessons/12931>\n"
      ]
    },
    {
      "cell_type": "code",
      "metadata": {
        "id": "bjIh4AFH-m3C",
        "colab_type": "code",
        "colab": {}
      },
      "source": [
        "n=123\n",
        "\n",
        "def solution(n):\n",
        "  \n",
        "    return sum(list(map(int, str(n))))"
      ],
      "execution_count": null,
      "outputs": []
    }
  ]
}