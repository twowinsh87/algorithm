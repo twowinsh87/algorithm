{
  "nbformat": 4,
  "nbformat_minor": 0,
  "metadata": {
    "colab": {
      "name": "프로그래머스_2주차_이승하.ipynb",
      "provenance": []
    },
    "kernelspec": {
      "name": "python3",
      "display_name": "Python 3"
    }
  },
  "cells": [
    {
      "cell_type": "markdown",
      "metadata": {
        "id": "TdJ3rBiVhFeP",
        "colab_type": "text"
      },
      "source": [
        "### Lev1- 두 정수의 합"
      ]
    },
    {
      "cell_type": "code",
      "metadata": {
        "id": "llM4BTjwhH0I",
        "colab_type": "code",
        "colab": {}
      },
      "source": [
        "def adder(a, b):\n",
        "    if a > b:\n",
        "        a, b = b, a\n",
        "\n",
        "    return sum(range(a,b+1))"
      ],
      "execution_count": null,
      "outputs": []
    },
    {
      "cell_type": "markdown",
      "metadata": {
        "id": "1QcJHtu8hYxS",
        "colab_type": "text"
      },
      "source": [
        "### Lev1-문자열 내 마음대로 정렬하기"
      ]
    },
    {
      "cell_type": "markdown",
      "metadata": {
        "id": "YfhCuLmWYvP0",
        "colab_type": "text"
      },
      "source": [
        "- 처음에 이중포문으로 조건마다 거르고 sorted() 했는데, 다른 사람 코드 참고해서\n",
        "- sorted에 두번째 파라메터로 lambda 를 쓰는 것을 알게 되었음.\n",
        "- 정렬이 되는데 두번째 조전을 기준으로 조건이 추가로 걸린다"
      ]
    },
    {
      "cell_type": "code",
      "metadata": {
        "id": "xJr38nOJhaqV",
        "colab_type": "code",
        "colab": {}
      },
      "source": [
        "strings =  ['sun', 'bed', 'car']\n",
        "n=1\n",
        "\n",
        "def solution(strings, n):\n",
        "\n",
        "    answer = sorted(sorted(strings), key = lambda a : a[n])\n",
        "    return answer"
      ],
      "execution_count": 13,
      "outputs": []
    },
    {
      "cell_type": "markdown",
      "metadata": {
        "id": "ZLJxItqOabc4",
        "colab_type": "text"
      },
      "source": [
        "### Lev1-문자열 내 p와 y의 개수"
      ]
    },
    {
      "cell_type": "code",
      "metadata": {
        "id": "gTakMErFQvqp",
        "colab_type": "code",
        "colab": {
          "base_uri": "https://localhost:8080/",
          "height": 34
        },
        "outputId": "c3b6c991-8844-498a-ee00-30ce501b3fca"
      },
      "source": [
        "s = \"pPoooyY\"\n",
        "\n",
        "def solution(s):\n",
        "    answer = True\n",
        "    \n",
        "    sl=s.lower()\n",
        "    pc=sl.count('p')\n",
        "    yc=sl.count('y')\n",
        "    \n",
        "    answer = True if pc==yc else False\n",
        "\n",
        "    return answer\n",
        "\n",
        "print(solution(s))"
      ],
      "execution_count": 16,
      "outputs": [
        {
          "output_type": "stream",
          "text": [
            "True\n"
          ],
          "name": "stdout"
        }
      ]
    },
    {
      "cell_type": "markdown",
      "metadata": {
        "id": "us6zibD0g9aR",
        "colab_type": "text"
      },
      "source": [
        "### Lev1-문자열 내림차순으로 배치하기"
      ]
    },
    {
      "cell_type": "code",
      "metadata": {
        "id": "GmkiyYwzhQj-",
        "colab_type": "code",
        "colab": {
          "base_uri": "https://localhost:8080/",
          "height": 34
        },
        "outputId": "c2ba227c-cca6-478b-fcbb-df3cb694c706"
      },
      "source": [
        "s='Zbcdefg'\n",
        "\n",
        "def solution(s):\n",
        "    answer = ''.join(sorted(s, reverse=True)) ##구분자 없이 조인(join)해서 정렬된 녀석을 전부 합친다\n",
        "    return answer\n",
        "\n",
        "print(solution(s))\n",
        "\n",
        "## 예상결과 'gfedcbZ'"
      ],
      "execution_count": 25,
      "outputs": [
        {
          "output_type": "stream",
          "text": [
            "gfedcbZ\n"
          ],
          "name": "stdout"
        }
      ]
    },
    {
      "cell_type": "markdown",
      "metadata": {
        "id": "p8125UDujt__",
        "colab_type": "text"
      },
      "source": [
        "### Lev1-문자열 다루기 기본\n",
        "\n"
      ]
    },
    {
      "cell_type": "code",
      "metadata": {
        "id": "p_uzgTNme4ZZ",
        "colab_type": "code",
        "colab": {
          "base_uri": "https://localhost:8080/",
          "height": 34
        },
        "outputId": "eac4a644-1591-4b43-95d5-8d50a15aa356"
      },
      "source": [
        "s=\"1234\"\n",
        "\n",
        "def solution(s):\n",
        "    answer = s.isdigit()\n",
        "    \n",
        "    if answer:\n",
        "        answer = True if len(s)==6 or len(s)==4 else False\n",
        "        ## 이건 안먹힘 answer = False if len(s)!=6 | len(s)!=4 else True\n",
        "        \n",
        "    return answer\n",
        "\n",
        "print(s.isdigit())"
      ],
      "execution_count": 49,
      "outputs": [
        {
          "output_type": "stream",
          "text": [
            "True\n"
          ],
          "name": "stdout"
        }
      ]
    }
  ]
}