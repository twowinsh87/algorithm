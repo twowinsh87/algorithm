{
  "nbformat": 4,
  "nbformat_minor": 0,
  "metadata": {
    "colab": {
      "name": "프로그래머스_1주차_이승하.ipynb",
      "provenance": []
    },
    "kernelspec": {
      "name": "python3",
      "display_name": "Python 3"
    }
  },
  "cells": [
    {
      "cell_type": "markdown",
      "metadata": {
        "id": "TdmjW_lg6Wy-",
        "colab_type": "text"
      },
      "source": [
        "### 프로그래머스"
      ]
    },
    {
      "cell_type": "markdown",
      "metadata": {
        "id": "78INNIRQ_tYs",
        "colab_type": "text"
      },
      "source": [
        "### Lev1-모의고사"
      ]
    },
    {
      "cell_type": "code",
      "metadata": {
        "id": "jVQXKK936dLF",
        "colab_type": "code",
        "colab": {
          "base_uri": "https://localhost:8080/",
          "height": 34
        },
        "outputId": "31991b5d-7061-4b08-e5ad-180fcc60976c"
      },
      "source": [
        "def check_list(answers):\n",
        "    su1 = [1, 2, 3, 4, 5]\n",
        "    su2 = [2, 1, 2, 3, 2, 4, 2, 5]\n",
        "    su3 = [3, 3, 1, 1, 2, 2, 4, 4, 5, 5]\n",
        "\n",
        "    supojas = (su1, su2, su3)\n",
        "    check_list = []\n",
        "\n",
        "    for su_x in supojas:\n",
        "\n",
        "        rest = len(answers) % len(su_x)\n",
        "\n",
        "        if (len(answers)//len(su_x) > 0):\n",
        "            su_x = su_x * (len(answers)//len(su_x))\n",
        "\n",
        "        check_count = 0;\n",
        "\n",
        "        if rest!=0:\n",
        "            add_list = su_x[:rest]\n",
        "            su_x = su_x + add_list\n",
        "\n",
        "        for i in range(len(answers)):\n",
        "            if (answers[i] == su_x[i]):\n",
        "                check_count += 1\n",
        "        \n",
        "\n",
        "        check_list.append(check_count)\n",
        "    answer_list = [];\n",
        "    m=max(check_list)\n",
        "    for i, val in enumerate(check_list):\n",
        "        if (val==m):\n",
        "            answer_list.append(i+1)\n",
        "\n",
        "    answer_list.sort()\n",
        "    return answer_list\n",
        "    \n",
        "\n",
        "\n",
        "answers = [1, 3, 2, 4, 2]\n",
        "a=check_list(answers)\n",
        "print(a)"
      ],
      "execution_count": 17,
      "outputs": [
        {
          "output_type": "stream",
          "text": [
            "[1, 2, 3]\n"
          ],
          "name": "stdout"
        }
      ]
    },
    {
      "cell_type": "code",
      "metadata": {
        "id": "uuDijX1wG1vU",
        "colab_type": "code",
        "colab": {
          "base_uri": "https://localhost:8080/",
          "height": 51
        },
        "outputId": "0cb0c750-53eb-4cdc-ece6-88434195894d"
      },
      "source": [
        "answers = [3, 3, 1, 1, 2]\n",
        "m = max(answers)\n",
        "print(m)\n",
        "[i for i, j in enumerate(a) if j == m]"
      ],
      "execution_count": 44,
      "outputs": [
        {
          "output_type": "stream",
          "text": [
            "3\n"
          ],
          "name": "stdout"
        },
        {
          "output_type": "execute_result",
          "data": {
            "text/plain": [
              "[]"
            ]
          },
          "metadata": {
            "tags": []
          },
          "execution_count": 44
        }
      ]
    },
    {
      "cell_type": "markdown",
      "metadata": {
        "id": "7y0aScho_xel",
        "colab_type": "text"
      },
      "source": [
        "### Lev1-K번째수\n",
        "\n",
        "*   다른 사람 풀이\n",
        "  *   return list(map(lambda x:sorted(array[x[0]-1:x[1]])[x[2]-1], commands))\n",
        "\n"
      ]
    },
    {
      "cell_type": "code",
      "metadata": {
        "id": "GZcR1Vmve8Wd",
        "colab_type": "code",
        "colab": {
          "base_uri": "https://localhost:8080/",
          "height": 34
        },
        "outputId": "591a0af2-9218-412b-a522-4ea2216d9315"
      },
      "source": [
        "def solution(array, commands):\n",
        "\n",
        "    answer = []\n",
        "    for i in range(len(commands)):\n",
        "        start = commands[i][0]\n",
        "        end = commands[i][1]\n",
        "        point = commands[i][2]\n",
        "        new_array = array[start-1:end]\n",
        "        new_array.sort()\n",
        "        answer.append(new_array[point-1])\n",
        "\n",
        "    return answer\n",
        "\n",
        "array = [1, 5, 2, 6, 3, 7, 4]\n",
        "commands = [2, 5, 3], [4, 4, 1], [1, 7, 3]\n",
        "print(solution(array,commands))"
      ],
      "execution_count": null,
      "outputs": [
        {
          "output_type": "stream",
          "text": [
            "[5, 6, 3]\n"
          ],
          "name": "stdout"
        }
      ]
    },
    {
      "cell_type": "markdown",
      "metadata": {
        "id": "utdsAycnADqR",
        "colab_type": "text"
      },
      "source": [
        "### Lev1-2016년"
      ]
    },
    {
      "cell_type": "code",
      "metadata": {
        "id": "_Bc12gXK7Yu3",
        "colab_type": "code",
        "colab": {}
      },
      "source": [
        "import datetime\n",
        "\n",
        "def solution(a, b):\n",
        "    a = datetime.date(2016,a,b).weekday() ## 월요일이면 0리턴. 배열 그대로 리턴해도 됨\n",
        "    week_list=['MON','TUE','WED','THU','FRI','SAT','SUN']\n",
        "    return week_list[a]"
      ],
      "execution_count": null,
      "outputs": []
    },
    {
      "cell_type": "markdown",
      "metadata": {
        "id": "6LBe_fhVSt_Z",
        "colab_type": "text"
      },
      "source": [
        "### Lev1-가운데 글자 가져오기\n",
        "\n",
        "\n",
        "*   다른 사람 풀이\n",
        "  *   return str[(len(str)-1)//2:len(str)//2+1]\n",
        "\n"
      ]
    },
    {
      "cell_type": "code",
      "metadata": {
        "id": "aEy_n8PKBmWa",
        "colab_type": "code",
        "colab": {}
      },
      "source": [
        "def solution(s):\n",
        "    answer = ''\n",
        "    half_point = len(s)//2\n",
        "\n",
        "    if (len(s)%2)==0:\n",
        "        answer=s[half_point-1]+s[half_point]\n",
        "    else:\n",
        "        answer=s[half_point]\n",
        "    return answer"
      ],
      "execution_count": null,
      "outputs": []
    },
    {
      "cell_type": "markdown",
      "metadata": {
        "id": "4zCDsaSHuJI3",
        "colab_type": "text"
      },
      "source": [
        "### Lev1-체육복"
      ]
    },
    {
      "cell_type": "code",
      "metadata": {
        "id": "p9SNUGSc0u1v",
        "colab_type": "code",
        "colab": {
          "base_uri": "https://localhost:8080/",
          "height": 34
        },
        "outputId": "d21492e4-3431-4001-b3e8-405e6a213d82"
      },
      "source": [
        "### 비슷하게 풀었으나 더 좋은 결과를 참고\n",
        "def solution(n, lost, reserve):\n",
        "    rl = set(reserve)&set(lost) # 체육복을 잃어버렸지만 여별도 있는 학생\n",
        "    reserve = list(set(reserve) - rl) # 여벌을 빌려줄 수 없는 학생 없애기\n",
        "    lost = list(set(lost) - rl) # 여벌이 있는 학생 없애기\n",
        "    for r in reserve:\n",
        "        if r-1 in lost:\n",
        "            lost.remove(r-1)\n",
        "        elif r+1 in lost:\n",
        "            lost.remove(r+1)\n",
        "    return n-len(lost)\n",
        "\n",
        "n=5\n",
        "lost=[2,4]\n",
        "reserve=[1,3,5]\n",
        "print(solution(n, lost, reserve))"
      ],
      "execution_count": 18,
      "outputs": [
        {
          "output_type": "stream",
          "text": [
            "5\n"
          ],
          "name": "stdout"
        }
      ]
    },
    {
      "cell_type": "code",
      "metadata": {
        "id": "_USFpWrY0wye",
        "colab_type": "code",
        "colab": {}
      },
      "source": [
        "12345"
      ],
      "execution_count": null,
      "outputs": []
    }
  ]
}